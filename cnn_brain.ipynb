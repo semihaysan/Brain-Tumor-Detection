{
 "cells": [
  {
   "cell_type": "code",
   "execution_count": 14,
   "id": "5a518b87",
   "metadata": {},
   "outputs": [
    {
     "name": "stdout",
     "output_type": "stream",
     "text": [
      "Requirement already satisfied: Pillow in c:\\users\\semih\\anaconda3\\lib\\site-packages (9.4.0)Note: you may need to restart the kernel to use updated packages.\n",
      "\n"
     ]
    }
   ],
   "source": [
    "pip install Pillow"
   ]
  },
  {
   "cell_type": "code",
   "execution_count": 69,
   "id": "8fb35c9c",
   "metadata": {},
   "outputs": [],
   "source": [
    "import os\n",
    "import cv2\n",
    "import numpy as np \n",
    "import matplotlib.pyplot as plt\n",
    "from PIL import Image\n",
    "from sklearn.model_selection import train_test_split\n",
    "import tensorflow as tf\n",
    "from tensorflow import keras\n",
    "from keras.utils import normalize\n",
    "from keras.models import Sequential\n",
    "from keras.layers import Conv2D , MaxPooling2D\n",
    "from keras.layers import Activation , Dropout , Flatten , Dense\n",
    "from keras.utils import to_categorical \n",
    "from keras.models import load_model"
   ]
  },
  {
   "cell_type": "code",
   "execution_count": 16,
   "id": "b6ca20f8",
   "metadata": {},
   "outputs": [],
   "source": [
    "directory = r'C:\\Users\\semih\\Desktop\\brain_tumor'\n",
    "no = r'C:\\Users\\semih\\Desktop\\brain_tumor\\no'\n",
    "yes = r'C:\\Users\\semih\\Desktop\\brain_tumor\\yes'\n",
    "no_tumor =os.listdir(no)\n",
    "yes_tumor = os.listdir(yes)\n",
    "dataset = []\n",
    "label = []\n"
   ]
  },
  {
   "cell_type": "code",
   "execution_count": 17,
   "id": "e7b85339",
   "metadata": {},
   "outputs": [
    {
     "name": "stdout",
     "output_type": "stream",
     "text": [
      "<PIL.Image.Image image mode=RGB size=64x64 at 0x28024BAA310>\n"
     ]
    }
   ],
   "source": [
    "for i , image_name in enumerate(no_tumor):\n",
    "    if(image_name.split('.')[1]=='jpg'):\n",
    "        image = cv2.imread(directory + '/no/' + image_name)\n",
    "        image = Image.fromarray(image, 'RGB')\n",
    "        image = image.resize((64,64))\n",
    "        dataset.append(np.array(image))\n",
    "        label.append(0)\n",
    "print(image)"
   ]
  },
  {
   "cell_type": "code",
   "execution_count": 18,
   "id": "b3cf080e",
   "metadata": {},
   "outputs": [
    {
     "name": "stdout",
     "output_type": "stream",
     "text": [
      "<PIL.Image.Image image mode=RGB size=64x64 at 0x28039807FD0>\n"
     ]
    }
   ],
   "source": [
    "for i , image_name in enumerate(yes_tumor):\n",
    "    if(image_name.split('.')[1]=='jpg'):\n",
    "        image = cv2.imread(directory + '/yes/' + image_name)\n",
    "        image = Image.fromarray(image, 'RGB')\n",
    "        image = image.resize((64,64))\n",
    "        dataset.append(np.array(image))\n",
    "        label.append(1)\n",
    "print(image)"
   ]
  },
  {
   "cell_type": "code",
   "execution_count": 19,
   "id": "a46fd276",
   "metadata": {},
   "outputs": [],
   "source": [
    "dataset = np.array(dataset)\n",
    "label = np.array(label)"
   ]
  },
  {
   "cell_type": "code",
   "execution_count": 20,
   "id": "175d0e20",
   "metadata": {},
   "outputs": [],
   "source": [
    "x_train , x_test , y_train , y_test = train_test_split(dataset , label , test_size = 0.2, random_state=0)\n",
    "x_train = normalize(x_train , axis=1)\n",
    "x_test = normalize(x_test , axis=1)\n"
   ]
  },
  {
   "cell_type": "code",
   "execution_count": 21,
   "id": "a911eeff",
   "metadata": {},
   "outputs": [],
   "source": [
    "model = Sequential()\n",
    "model.add(Conv2D(32, (3,3),input_shape = (64,64,3)))\n",
    "model.add(Activation('relu'))\n",
    "model.add(MaxPooling2D(pool_size=(2,2)))\n",
    "\n",
    "model.add(Conv2D(32, (3,3),kernel_initializer ='he_uniform'))\n",
    "model.add(Activation('relu'))\n",
    "model.add(MaxPooling2D(pool_size=(2,2)))\n",
    "\n",
    "model.add(Conv2D(64, (3,3),kernel_initializer ='he_uniform'))\n",
    "model.add(Activation('relu'))\n",
    "model.add(MaxPooling2D(pool_size=(2,2)))\n",
    "\n",
    "model.add(Flatten())\n",
    "model.add(Dense(64))\n",
    "model.add(Activation('relu'))\n",
    "model.add(Dropout(0.5))\n",
    "model.add(Dense(1))\n",
    "model.add(Activation('sigmoid'))"
   ]
  },
  {
   "cell_type": "markdown",
   "id": "e2bf7484",
   "metadata": {},
   "source": []
  },
  {
   "cell_type": "code",
   "execution_count": 32,
   "id": "99bf6d32",
   "metadata": {},
   "outputs": [
    {
     "name": "stdout",
     "output_type": "stream",
     "text": [
      "Epoch 1/10\n",
      "\u001b[1m154/154\u001b[0m \u001b[32m━━━━━━━━━━━━━━━━━━━━\u001b[0m\u001b[37m\u001b[0m \u001b[1m13s\u001b[0m 52ms/step - accuracy: 0.9994 - loss: 0.0035 - val_accuracy: 0.9675 - val_loss: 0.2208\n",
      "Epoch 2/10\n",
      "\u001b[1m154/154\u001b[0m \u001b[32m━━━━━━━━━━━━━━━━━━━━\u001b[0m\u001b[37m\u001b[0m \u001b[1m6s\u001b[0m 37ms/step - accuracy: 0.9967 - loss: 0.0104 - val_accuracy: 0.9675 - val_loss: 0.4145\n",
      "Epoch 3/10\n",
      "\u001b[1m154/154\u001b[0m \u001b[32m━━━━━━━━━━━━━━━━━━━━\u001b[0m\u001b[37m\u001b[0m \u001b[1m5s\u001b[0m 32ms/step - accuracy: 0.9989 - loss: 0.0034 - val_accuracy: 0.9642 - val_loss: 0.3660\n",
      "Epoch 4/10\n",
      "\u001b[1m154/154\u001b[0m \u001b[32m━━━━━━━━━━━━━━━━━━━━\u001b[0m\u001b[37m\u001b[0m \u001b[1m5s\u001b[0m 33ms/step - accuracy: 1.0000 - loss: 0.0013 - val_accuracy: 0.9659 - val_loss: 0.3648\n",
      "Epoch 5/10\n",
      "\u001b[1m154/154\u001b[0m \u001b[32m━━━━━━━━━━━━━━━━━━━━\u001b[0m\u001b[37m\u001b[0m \u001b[1m5s\u001b[0m 32ms/step - accuracy: 0.9998 - loss: 9.2274e-04 - val_accuracy: 0.9675 - val_loss: 0.3292\n",
      "Epoch 6/10\n",
      "\u001b[1m154/154\u001b[0m \u001b[32m━━━━━━━━━━━━━━━━━━━━\u001b[0m\u001b[37m\u001b[0m \u001b[1m5s\u001b[0m 34ms/step - accuracy: 1.0000 - loss: 4.9014e-04 - val_accuracy: 0.9659 - val_loss: 0.3152\n",
      "Epoch 7/10\n",
      "\u001b[1m154/154\u001b[0m \u001b[32m━━━━━━━━━━━━━━━━━━━━\u001b[0m\u001b[37m\u001b[0m \u001b[1m5s\u001b[0m 32ms/step - accuracy: 0.9962 - loss: 0.0128 - val_accuracy: 0.9707 - val_loss: 0.2227\n",
      "Epoch 8/10\n",
      "\u001b[1m154/154\u001b[0m \u001b[32m━━━━━━━━━━━━━━━━━━━━\u001b[0m\u001b[37m\u001b[0m \u001b[1m5s\u001b[0m 34ms/step - accuracy: 0.9937 - loss: 0.0186 - val_accuracy: 0.9642 - val_loss: 0.2768\n",
      "Epoch 9/10\n",
      "\u001b[1m154/154\u001b[0m \u001b[32m━━━━━━━━━━━━━━━━━━━━\u001b[0m\u001b[37m\u001b[0m \u001b[1m5s\u001b[0m 30ms/step - accuracy: 0.9876 - loss: 0.0335 - val_accuracy: 0.9740 - val_loss: 0.2151\n",
      "Epoch 10/10\n",
      "\u001b[1m154/154\u001b[0m \u001b[32m━━━━━━━━━━━━━━━━━━━━\u001b[0m\u001b[37m\u001b[0m \u001b[1m5s\u001b[0m 33ms/step - accuracy: 0.9973 - loss: 0.0121 - val_accuracy: 0.9756 - val_loss: 0.2172\n"
     ]
    },
    {
     "name": "stderr",
     "output_type": "stream",
     "text": [
      "WARNING:absl:You are saving your model as an HDF5 file via `model.save()` or `keras.saving.save_model(model)`. This file format is considered legacy. We recommend using instead the native Keras format, e.g. `model.save('my_model.keras')` or `keras.saving.save_model(model, 'my_model.keras')`. \n"
     ]
    }
   ],
   "source": [
    "model.compile(loss='binary_crossentropy',optimizer = 'adam',metrics=['accuracy'])\n",
    "model.fit(x_train,y_train,\n",
    "          batch_size=16,\n",
    "          verbose=1 ,\n",
    "          epochs=10,\n",
    "         validation_data=(x_test,y_test), shuffle = False)\n",
    "model.save('brain_tumor.h5')"
   ]
  },
  {
   "cell_type": "code",
   "execution_count": 40,
   "id": "05bd496c",
   "metadata": {},
   "outputs": [],
   "source": [
    "def load_and_preprocess_images(file_path):\n",
    "    img = Image.open(file_path)\n",
    "    img = img.resize((64, 64))   \n",
    "    img = np.array(img) / 255.0  \n",
    "    img = np.expand_dims(img, axis=0) \n",
    "    return img"
   ]
  },
  {
   "cell_type": "code",
   "execution_count": 112,
   "id": "67dad7b6",
   "metadata": {},
   "outputs": [
    {
     "name": "stdout",
     "output_type": "stream",
     "text": [
      "\u001b[1m1/1\u001b[0m \u001b[32m━━━━━━━━━━━━━━━━━━━━\u001b[0m\u001b[37m\u001b[0m \u001b[1m0s\u001b[0m 33ms/step\n"
     ]
    },
    {
     "data": {
      "image/png": "[encoded data removed]",
      "text/plain": [
       "<Figure size 1000x1000 with 1 Axes>"
      ]
     },
     "metadata": {},
     "output_type": "display_data"
    }
   ],
   "source": [
    "dosya_yolu = r\"C:\\Users\\semih\\Desktop\\brain_tumor\\yes\\y56.jpg\"\n",
    "test_images = load_and_preprocess_images(dosya_yolu)\n",
    "\n",
    "predictions = model.predict(test_images)\n",
    "\n",
    "plt.figure(figsize=(10, 10))\n",
    "for i in range(len(test_images)):\n",
    "    plt.subplot(5, 5, i + 1)\n",
    "    plt.imshow(test_images[i])\n",
    "    prediction_value = float(predictions[i])  \n",
    "    plt.title(\"Prediction: {:.10f}\".format(prediction_value))\n",
    "    plt.axis(\"off\")\n",
    "plt.show()\n"
   ]
  }
 ],
 "metadata": {
  "kernelspec": {
   "display_name": "Python 3 (ipykernel)",
   "language": "python",
   "name": "python3"
  },
  "language_info": {
   "codemirror_mode": {
    "name": "ipython",
    "version": 3
   },
   "file_extension": ".py",
   "mimetype": "text/x-python",
   "name": "python",
   "nbconvert_exporter": "python",
   "pygments_lexer": "ipython3",
   "version": "3.11.5"
  }
 },
 "nbformat": 4,
 "nbformat_minor": 5
}
